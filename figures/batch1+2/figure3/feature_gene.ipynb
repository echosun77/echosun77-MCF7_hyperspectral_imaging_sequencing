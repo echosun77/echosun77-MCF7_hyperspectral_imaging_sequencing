{
 "cells": [
  {
   "cell_type": "code",
   "execution_count": 1,
   "metadata": {
    "ExecuteTime": {
     "end_time": "2024-11-26T15:09:43.356900Z",
     "start_time": "2024-11-26T15:09:43.351762Z"
    }
   },
   "outputs": [
    {
     "data": {
      "text/plain": [
       "'\\nauthor: Yike Xie\\ndata: 3/10/2023\\ncontent: correlate image features and transcriptome\\n'"
      ]
     },
     "execution_count": 1,
     "metadata": {},
     "output_type": "execute_result"
    }
   ],
   "source": [
    "'''\n",
    "author: Yike Xie\n",
    "data: 3/10/2023\n",
    "content: correlate image features and transcriptome\n",
    "'''"
   ]
  },
  {
   "cell_type": "code",
   "execution_count": 2,
   "metadata": {
    "ExecuteTime": {
     "end_time": "2024-11-26T15:09:45.862498Z",
     "start_time": "2024-11-26T15:09:44.003794Z"
    }
   },
   "outputs": [],
   "source": [
    "import os\n",
    "import sys\n",
    "import numpy as np\n",
    "import pandas as pd\n",
    "\n",
    "import matplotlib.pyplot as plt\n",
    "from matplotlib import rcParams\n",
    "import seaborn as sns\n",
    "\n",
    "import scanpy as sc\n",
    "import pickle"
   ]
  },
  {
   "cell_type": "code",
   "execution_count": 3,
   "metadata": {
    "ExecuteTime": {
     "end_time": "2024-11-26T15:09:45.867936Z",
     "start_time": "2024-11-26T15:09:45.863897Z"
    }
   },
   "outputs": [],
   "source": [
    "def sig_dataset(feas_fn, data_fn):\n",
    "    print('load features')\n",
    "    with open(feas_fn, 'rb') as f:\n",
    "        features = pd.read_pickle(f)\n",
    "    \n",
    "    print('load dataset')\n",
    "    adata = sc.read_h5ad(data_fn)\n",
    "    sc.pp.normalize_total(adata, target_sum=1e6)\n",
    "\n",
    "    print('filter genes')\n",
    "    sc.pp.filter_genes(adata, min_cells=10)\n",
    "\n",
    "    print('Add features to adata')\n",
    "    for col in features.columns:\n",
    "        adata.obs[col] = features.loc[adata.obs_names][col]\n",
    "\n",
    "    return adata\n",
    "\n",
    "def get_correlation(adata_s, feas):\n",
    "    #corr = dsim.correlation.correlate_features_phenotypes(feas, fillna=0)##\n",
    "    exp = adata_s.X.T\n",
    "    phe = adata_s.obs[feas].fillna(0)\n",
    "\n",
    "    x = exp #(39466, 10)\n",
    "    y = phe.values.T #(2, 10)\n",
    "\n",
    "    from scipy.stats import rankdata\n",
    "\n",
    "    xw = np.zeros_like(x, float)\n",
    "    for ii, xi in enumerate(x):\n",
    "        xw[ii] = rankdata(xi, method='average')\n",
    "    yw = np.zeros_like(y, float)\n",
    "    for ii, yi in enumerate(y):\n",
    "        yw[ii] = rankdata(yi, method='average')\n",
    "\n",
    "    xw = ((xw.T - xw.mean(axis=1)) / xw.std(axis=1)).T\n",
    "    yw = ((yw.T - yw.mean(axis=1)) / yw.std(axis=1)).T\n",
    "    n = xw.shape[1]\n",
    "    r = np.dot(xw, yw.T) / n\n",
    "\n",
    "    corr = pd.DataFrame(\n",
    "                    data=r,\n",
    "                    index=adata_s.var_names,\n",
    "                    columns=phe.columns,\n",
    "                    dtype=float)\n",
    "\n",
    "    return corr"
   ]
  },
  {
   "cell_type": "code",
   "execution_count": 4,
   "metadata": {
    "ExecuteTime": {
     "end_time": "2024-11-26T15:09:46.185875Z",
     "start_time": "2024-11-26T15:09:46.051632Z"
    }
   },
   "outputs": [
    {
     "name": "stdout",
     "output_type": "stream",
     "text": [
      "load features\n",
      "load dataset\n",
      "filter genes\n",
      "Add features to adata\n"
     ]
    }
   ],
   "source": [
    "feas_fn = '/home/yike/phd/cancer_cells_img_seq/figures/combine_features.pkl'\n",
    "data_fn = '/home/yike/phd/cancer_cells_img_seq/data/combine_gene.h5ad'\n",
    "adata = sig_dataset(feas_fn, data_fn)\n",
    "\n",
    "save_figures = '/home/yike/phd/cancer_cells_img_seq/figures/correlate_features/gene/'"
   ]
  },
  {
   "cell_type": "markdown",
   "metadata": {},
   "source": [
    "## focus following analyses on cells with low percentage of mitochondrial reads"
   ]
  },
  {
   "cell_type": "code",
   "execution_count": 5,
   "metadata": {
    "ExecuteTime": {
     "end_time": "2024-11-26T15:09:58.128681Z",
     "start_time": "2024-11-26T15:09:58.115906Z"
    }
   },
   "outputs": [],
   "source": [
    "## divide live and dead cells according to the fraction o mitochondrial reads\n",
    "live_cells = adata.obs[adata.obs['pct_counts_mt'] < 25].index\n",
    "dead_cells = adata.obs[adata.obs['pct_counts_mt'] > 25].index\n",
    "\n",
    "# create dataset only having cells with low percentage of mitochondrial reads\n",
    "adata_live = adata[live_cells, :]"
   ]
  },
  {
   "cell_type": "code",
   "execution_count": 13,
   "metadata": {},
   "outputs": [
    {
     "name": "stderr",
     "output_type": "stream",
     "text": [
      "Trying to set attribute `.obs` of view, copying.\n"
     ]
    },
    {
     "name": "stdout",
     "output_type": "stream",
     "text": [
      "Correlate with some simple features\n"
     ]
    },
    {
     "name": "stderr",
     "output_type": "stream",
     "text": [
      "<ipython-input-3-d17eeb993e46>:36: RuntimeWarning: invalid value encountered in true_divide\n",
      "  xw = ((xw.T - xw.mean(axis=1)) / xw.std(axis=1)).T\n"
     ]
    }
   ],
   "source": [
    "# Average spectra\n",
    "adata_live.obs['spectra_norm'] = np.array(adata_live.obs['spectra'].tolist()).mean(axis=1) / adata_live.obs['area']\n",
    "print('Correlate with some simple features')\n",
    "feas = ['area', 'eccentricity', 'spectra_norm']\n",
    "\n",
    "corr = get_correlation(adata_live, feas)\n",
    "corr = corr.fillna(0)\n",
    "\n",
    "corr['Frac'] = 100 * (adata_live[:, corr.index].X > 0).sum(axis=0) / adata_live.obs.shape[0]\n",
    "corr['Number'] = (adata_live[:, corr.index].X > 0).sum(axis=0)\n",
    "corr.to_csv(save_figures + 'correlation_live_cells.tsv', sep='\\t')"
   ]
  },
  {
   "cell_type": "code",
   "execution_count": null,
   "metadata": {},
   "outputs": [],
   "source": []
  },
  {
   "cell_type": "code",
   "execution_count": null,
   "metadata": {},
   "outputs": [],
   "source": []
  }
 ],
 "metadata": {
  "kernelspec": {
   "display_name": "singlecell",
   "language": "python",
   "name": "singlecell"
  },
  "language_info": {
   "codemirror_mode": {
    "name": "ipython",
    "version": 3
   },
   "file_extension": ".py",
   "mimetype": "text/x-python",
   "name": "python",
   "nbconvert_exporter": "python",
   "pygments_lexer": "ipython3",
   "version": "3.12.7"
  },
  "toc": {
   "base_numbering": 1,
   "nav_menu": {},
   "number_sections": true,
   "sideBar": true,
   "skip_h1_title": false,
   "title_cell": "Table of Contents",
   "title_sidebar": "Contents",
   "toc_cell": false,
   "toc_position": {},
   "toc_section_display": true,
   "toc_window_display": false
  }
 },
 "nbformat": 4,
 "nbformat_minor": 4
}
