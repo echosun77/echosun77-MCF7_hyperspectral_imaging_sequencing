{
 "cells": [
  {
   "cell_type": "code",
   "execution_count": 1,
   "metadata": {},
   "outputs": [
    {
     "data": {
      "text/plain": [
       "'\\nauthor: Yike Xie\\ndata: 22/Dec/2023\\ncontent: check the correlation coefficients of representative\\n         receptors of MCF-7 cells\\n'"
      ]
     },
     "execution_count": 1,
     "metadata": {},
     "output_type": "execute_result"
    }
   ],
   "source": [
    "'''\n",
    "author: Yike Xie\n",
    "data: 22/Dec/2023\n",
    "content: check the correlation coefficients of representative\n",
    "         receptors of MCF-7 cells\n",
    "'''"
   ]
  },
  {
   "cell_type": "code",
   "execution_count": 2,
   "metadata": {},
   "outputs": [],
   "source": [
    "import os\n",
    "import numpy as np\n",
    "import pandas as pd\n",
    "\n",
    "import matplotlib as mpl\n",
    "import matplotlib.pyplot as plt\n",
    "from matplotlib import rcParams\n",
    "import seaborn as sns\n",
    "\n",
    "import scanpy as sc\n",
    "import pickle"
   ]
  },
  {
   "cell_type": "code",
   "execution_count": 3,
   "metadata": {},
   "outputs": [],
   "source": [
    "def sig_dataset(feas_fn, data_fn):\n",
    "    print('load features')\n",
    "    with open(feas_fn, 'rb') as f:\n",
    "        features = pd.read_pickle(f)\n",
    "    \n",
    "    print('load dataset')\n",
    "    adata = sc.read_h5ad(data_fn)\n",
    "    sc.pp.normalize_total(adata, target_sum=1e6)\n",
    "\n",
    "    print('filter genes')\n",
    "    sc.pp.filter_genes(adata, min_cells=10)\n",
    "\n",
    "    print('Add features to adata')\n",
    "    for col in features.columns:\n",
    "        adata.obs[col] = features.loc[adata.obs_names][col]\n",
    "\n",
    "    return adata\n",
    "\n",
    "def plot_bins(adata, fea, bin_n, gene, cmap, filetype, path=False, rho=False, ):\n",
    "    area_order = adata.obs[fea].sort_values().index\n",
    "    exp = adata[area_order, gene].X\n",
    "    exp = pd.DataFrame(exp[:,0], index=area_order, columns=['Gene exp [cpm]'])\n",
    "\n",
    "    exp['order'] = '0'\n",
    "    for i in range(bin_n):\n",
    "        n = round(exp.shape[0] / bin_n)\n",
    "        idx = [j for j in np.arange(n) + n * i if j < exp.shape[0]]\n",
    "        exp.loc[area_order[idx], 'order'] = 'Group {}'.format(str(i + 1))\n",
    "\n",
    "    fig, ax = plt.subplots(figsize=[2, 3])\n",
    "    rcParams['pdf.fonttype'] = 42\n",
    "    rcParams['font.size'] = 10\n",
    "    med = [exp[exp['order'] == 'Group {}'.format(str(i + 1))]['Gene exp [cpm]'].median() # average expression\n",
    "           for i in range(bin_n)]\n",
    "    alpha = [0.2 + 0.6 * i/(max(med) + 0.001) for i in med] # avoid average expression is 0\n",
    "    cmap = mpl.cm.get_cmap(cmap)\n",
    "    palette = [cmap(i) for i in alpha]\n",
    "\n",
    "    PROPS = {\n",
    "        'boxprops':{'edgecolor':'white'},\n",
    "        'medianprops':{'color':'white'},\n",
    "        'whiskerprops':{'color':'none'},\n",
    "        'capprops':{'color':'none'}}\n",
    "    sns.boxplot(data=exp, x='order', y='Gene exp [cpm]', palette=palette, **PROPS)\n",
    "    sns.stripplot(data=exp, x='order', y='Gene exp [cpm]', palette=palette, \n",
    "                  edgecolor='white', linewidth=1, size=3)\n",
    "    ax.set_xticks([])\n",
    "    ax.set_xticklabels([])\n",
    "    ax.set_xlabel('{}:\\nsmallest → largest'.format([fea.title(), fea][fea.isupper()]))\n",
    "    ax.set_title(gene)\n",
    "    ax.set_yscale('log')\n",
    "    \n",
    "    if rho is not False:\n",
    "        ax.text(0.5, ax.get_yticks()[-4], r'$\\rho$={}'.format(round(rho, 2)))\n",
    "\n",
    "    if path is not False:\n",
    "        fig.savefig(os.path.join(path, f'{fea}_{gene}{filetype}'), dpi=300, bbox_inches='tight')\n",
    "        \n",
    "    return {'fig': fig, 'ax': ax}\n"
   ]
  },
  {
   "cell_type": "code",
   "execution_count": 4,
   "metadata": {},
   "outputs": [],
   "source": [
    "def kdes(corr, fea, path=False):\n",
    "    from matplotlib.lines import Line2D\n",
    "    rcParams['pdf.fonttype'] = 42\n",
    "\n",
    "    fig, ax = plt.subplots(figsize=[3,3])\n",
    "    cs = sns.color_palette('tab10', 3)\n",
    "\n",
    "    handles = []\n",
    "    labels = []\n",
    "    for i, c in zip([0, 10, 50], cs):\n",
    "        sns.kdeplot(data=corr[corr['Number'] > i], x=fea, lw=2, \n",
    "                    ax=ax, c=c)\n",
    "        handles.append(Line2D([], [], color=c, lw=2))\n",
    "        labels.append('≥{} cells'.format(str(i)))\n",
    "\n",
    "    ax.legend(handles=handles, labels=labels, loc='upper left', \n",
    "              bbox_to_anchor=[1, 1], title='Genes expressed by')\n",
    "    ax.set_xlabel(r'$\\rho$ [{} vs. Exp]'.format(fea.capitalize()))\n",
    "    ax.set_ylabel('Density')\n",
    "\n",
    "    if path is not False:\n",
    "        fig.savefig(path + '{}_kde_0_10_50.pdf'.format(fea), dpi=150, bbox_inches='tight')\n",
    "        \n",
    "def kde_fea(corr, n, fea, genes, colors, path=False):\n",
    "    \n",
    "    rcParams['pdf.fonttype'] = 42\n",
    "    fig, ax = plt.subplots(figsize=[2.5,2.5])\n",
    "    sns.kdeplot(data=corr[corr['Number'] > n], x=fea, lw=2, \n",
    "                ax=ax, c='gray')\n",
    "    ax.set_title('Genes expressed by ≥{} cells'.format(str(n)))\n",
    "    ax.set_xlabel(r'$\\rho$ [{} vs. Exp]'.format(fea.capitalize()))\n",
    "    ax.set_ylabel('Density')\n",
    "    ax.grid(lw=1, ls='--', zorder=-5, alpha=0.5)\n",
    "\n",
    "    def find_nearest(array, value):\n",
    "        array = np.asarray(array)\n",
    "        idx = (np.abs(array - value)).argmin()\n",
    "        return array[idx]\n",
    "\n",
    "    x = ax.lines[0].get_xdata()\n",
    "    y = ax.lines[0].get_ydata()\n",
    "    points = list(zip(x, y))\n",
    "    t_dic = dict(points)\n",
    "\n",
    "    x_trues = [corr.loc[gene][fea] for gene in genes]\n",
    "    x_points = []\n",
    "    y_points = []\n",
    "    for x in x_trues:\n",
    "        x_point = find_nearest(np.array(list(t_dic.keys())), x)\n",
    "        x_points.append(x_point)\n",
    "        y_points.append(t_dic[x_point])\n",
    "\n",
    "    sns.scatterplot(x = x_points,\n",
    "                    y = y_points, c=colors, s=50)\n",
    "\n",
    "    for gene, x, y, c in zip(genes, x_points, y_points, colors):\n",
    "        ax.annotate(gene, xy=(x, y), xytext=(x, y+0.8), arrowprops=dict(arrowstyle=\"<-\"), \n",
    "                    va='center', ha='center', color=c)\n",
    "\n",
    "    if path is not False:\n",
    "        fig.savefig(path + '{}_kde.pdf'.format(fea), dpi=150, bbox_inches='tight')\n",
    "\n",
    "    return {'fig': fig, 'ax': ax}"
   ]
  },
  {
   "cell_type": "code",
   "execution_count": 5,
   "metadata": {},
   "outputs": [
    {
     "name": "stdout",
     "output_type": "stream",
     "text": [
      "load features\n",
      "load dataset\n",
      "filter genes\n",
      "Add features to adata\n"
     ]
    },
    {
     "name": "stderr",
     "output_type": "stream",
     "text": [
      "/home/yike/.conda/envs/scanpy/lib/python3.8/site-packages/anndata/_core/anndata.py:1095: FutureWarning: The `inplace` parameter in pandas.Categorical.remove_unused_categories is deprecated and will be removed in a future version.\n",
      "  df_sub[k].cat.remove_unused_categories(inplace=True)\n"
     ]
    }
   ],
   "source": [
    "feas_fn = '/home/yike/phd/cancer_cells_img_seq/figures/combine_features.pkl'\n",
    "data_fn = '/home/yike/phd/cancer_cells_img_seq/data/combine_gene.h5ad'\n",
    "adata = sig_dataset(feas_fn, data_fn)\n",
    "\n",
    "save_figures = '/home/yike/phd/cancer_cells_img_seq/figures/correlate_features/gene/'\n",
    "\n",
    "# add average optical intensity to adata\n",
    "df = pd.DataFrame(index=adata.obs_names, columns=adata.obs['wavelengths'].iloc[0])\n",
    "for i in df.index:\n",
    "    df.loc[i] = adata.obs['spectra'].loc[i] / adata.obs['area'].loc[i]\n",
    "    \n",
    "for col in df.columns:\n",
    "    adata.obs['{}_{}'.format(col[0], col[1])] = df.loc[adata.obs_names][col]\n",
    "    \n",
    "adata.obs['C4_C2'] = df[df.columns[3]] / df[df.columns[1]]\n",
    "\n",
    "adata.obs['area um2'] = adata.obs['area'] * 339.08276 ** 2 / 1024 ** 2"
   ]
  },
  {
   "cell_type": "markdown",
   "metadata": {},
   "source": [
    "## focus following analyses on cells with low percentage of mitochondrial reads"
   ]
  },
  {
   "cell_type": "code",
   "execution_count": 6,
   "metadata": {},
   "outputs": [
    {
     "name": "stderr",
     "output_type": "stream",
     "text": [
      "/home/yike/.conda/envs/scanpy/lib/python3.8/site-packages/anndata/_core/anndata.py:1095: FutureWarning: The `inplace` parameter in pandas.Categorical.remove_unused_categories is deprecated and will be removed in a future version.\n",
      "  df_sub[k].cat.remove_unused_categories(inplace=True)\n"
     ]
    }
   ],
   "source": [
    "## divide live and dead cells according to the fraction o mitochondrial reads\n",
    "live_cells = adata.obs[adata.obs['pct_counts_mt'] < 25].index\n",
    "dead_cells = adata.obs[adata.obs['pct_counts_mt'] > 25].index\n",
    "\n",
    "# create dataset only having cells with low percentage of mitochondrial reads\n",
    "adata_live = adata[live_cells, :]"
   ]
  },
  {
   "cell_type": "code",
   "execution_count": 7,
   "metadata": {},
   "outputs": [],
   "source": [
    "def plot_bins(adata, fea, bin_n, gene, cmap, xlabel, filetype, path=False, rho=False, ):\n",
    "    area_order = adata.obs[fea].sort_values().index\n",
    "    exp = adata[area_order, gene].X\n",
    "    exp = pd.DataFrame(exp[:,0], index=area_order, columns=['Gene exp [cpm]'])\n",
    "\n",
    "    exp['order'] = '0'\n",
    "    for i in range(bin_n):\n",
    "        n = round(exp.shape[0] / bin_n)\n",
    "        idx = [j for j in np.arange(n) + n * i if j < exp.shape[0]]\n",
    "        exp.loc[area_order[idx], 'order'] = 'Group {}'.format(str(i + 1))\n",
    "\n",
    "    fig, ax = plt.subplots(figsize=[2, 2.5])\n",
    "    rcParams['pdf.fonttype'] = 42\n",
    "    rcParams['font.size'] = 10\n",
    "    med = [exp[exp['order'] == 'Group {}'.format(str(i + 1))]['Gene exp [cpm]'].median() # average expression\n",
    "           for i in range(bin_n)]\n",
    "    alpha = [0.2 + 0.6 * i/(max(med) + 0.001) for i in med] # avoid average expression is 0\n",
    "    cmap = mpl.cm.get_cmap(cmap)\n",
    "    palette = [cmap(i) for i in alpha]\n",
    "\n",
    "    PROPS = {\n",
    "        'boxprops':{'edgecolor':'white'},\n",
    "        'medianprops':{'color':'white'},\n",
    "        'whiskerprops':{'color':'none'},\n",
    "        'capprops':{'color':'none'}}\n",
    "    sns.boxplot(data=exp, x='order', y='Gene exp [cpm]', palette=palette, **PROPS)\n",
    "    sns.stripplot(data=exp, x='order', y='Gene exp [cpm]', palette=palette, \n",
    "                  edgecolor='white', linewidth=1, size=3)\n",
    "\n",
    "    bins = np.array_split(adata.obs[fea].sort_values().array, 8)\n",
    "    round_n = [0, 2]['.' in str(bins[0])]\n",
    "#     round_n = 0\n",
    "    xticklabels = [f'{f\"%.{round_n}f\" % (i.min())}-{f\"%.{round_n}f\" % (i.max())}' for i in bins]\n",
    "    ax.set_xticklabels(xticklabels, rotation=90)\n",
    "    ax.set_xlabel(xlabel)\n",
    "#     ax.set_xlabel('{}:\\nsmallest → largest'.format([fea.title(), fea][fea.isupper()]))\n",
    "    ax.set_title(gene)\n",
    "    ax.set_yscale('log')\n",
    "    \n",
    "    if rho is not False:\n",
    "        ax.text(0.5, ax.get_yticks()[-4], r'$\\rho$={}'.format(round(rho, 2)))\n",
    "\n",
    "    if path is not False:\n",
    "        fig.savefig(os.path.join(path, f'{fea}_{gene}{filetype}'), dpi=300, bbox_inches='tight')\n",
    "        \n",
    "    return {'fig': fig, 'ax': ax}"
   ]
  },
  {
   "cell_type": "code",
   "execution_count": 8,
   "metadata": {},
   "outputs": [],
   "source": [
    "save_figures = '/home/yike/phd/cancer_cells_img_seq/figures/correlate_features/gene/'\n",
    "\n",
    "morph_corr = pd.read_csv(save_figures + 'correlation_live_cells.tsv', \n",
    "                         sep='\\t', index_col=0)\n",
    "morph_corr['area um2'] = morph_corr['area']\n",
    "\n",
    "wls_corr = pd.read_csv(save_figures + 'spectra_gene_correlation_live_cells.tsv', \n",
    "                       sep='\\t', index_col=0).fillna(0)\n",
    "\n",
    "ratio_corr = pd.read_csv(save_figures + 'C4_C2/correlation_ratio_4_2_live_cells.tsv', \n",
    "                         sep='\\t', index_col=0).fillna(0)"
   ]
  },
  {
   "cell_type": "code",
   "execution_count": 11,
   "metadata": {
    "scrolled": true
   },
   "outputs": [
    {
     "data": {
      "text/plain": [
       "gene_name\n",
       "ESR1        0.260300\n",
       "PGR         0.235638\n",
       "AR          0.136664\n",
       "NR3C1       0.251410\n",
       "TNFRSF1A    0.217240\n",
       "Name: 343_451, dtype: float64"
      ]
     },
     "execution_count": 11,
     "metadata": {},
     "output_type": "execute_result"
    }
   ],
   "source": [
    "receptors = [\n",
    "    'ESR1', # Estrogen receptors\n",
    "    'PGR', # Progesterone Receptor\n",
    "    'AR', # Androgen Receptor\n",
    "    'NR3C1', # Glucocorticoid receptor\n",
    "    'TNFRSF1A', # TNF-alpha receptors\n",
    "]\n",
    "wls_corr.loc[receptors]['343_451']"
   ]
  },
  {
   "cell_type": "code",
   "execution_count": 12,
   "metadata": {
    "scrolled": true
   },
   "outputs": [
    {
     "data": {
      "text/plain": [
       "gene_name\n",
       "ESR1       -0.038347\n",
       "PGR        -0.005346\n",
       "AR         -0.069580\n",
       "NR3C1      -0.045951\n",
       "TNFRSF1A   -0.012739\n",
       "Name: C4_C2, dtype: float64"
      ]
     },
     "execution_count": 12,
     "metadata": {},
     "output_type": "execute_result"
    }
   ],
   "source": [
    "ratio_corr.loc[receptors]['C4_C2']"
   ]
  },
  {
   "cell_type": "code",
   "execution_count": 13,
   "metadata": {},
   "outputs": [
    {
     "data": {
      "text/html": [
       "<div>\n",
       "<style scoped>\n",
       "    .dataframe tbody tr th:only-of-type {\n",
       "        vertical-align: middle;\n",
       "    }\n",
       "\n",
       "    .dataframe tbody tr th {\n",
       "        vertical-align: top;\n",
       "    }\n",
       "\n",
       "    .dataframe thead th {\n",
       "        text-align: right;\n",
       "    }\n",
       "</style>\n",
       "<table border=\"1\" class=\"dataframe\">\n",
       "  <thead>\n",
       "    <tr style=\"text-align: right;\">\n",
       "      <th></th>\n",
       "      <th>area</th>\n",
       "      <th>eccentricity</th>\n",
       "      <th>spectra_norm</th>\n",
       "      <th>Frac</th>\n",
       "      <th>Number</th>\n",
       "      <th>area um2</th>\n",
       "    </tr>\n",
       "    <tr>\n",
       "      <th>gene_name</th>\n",
       "      <th></th>\n",
       "      <th></th>\n",
       "      <th></th>\n",
       "      <th></th>\n",
       "      <th></th>\n",
       "      <th></th>\n",
       "    </tr>\n",
       "  </thead>\n",
       "  <tbody>\n",
       "    <tr>\n",
       "      <th>ESR1</th>\n",
       "      <td>-0.051306</td>\n",
       "      <td>-0.008299</td>\n",
       "      <td>0.262326</td>\n",
       "      <td>59.663866</td>\n",
       "      <td>71</td>\n",
       "      <td>-0.051306</td>\n",
       "    </tr>\n",
       "    <tr>\n",
       "      <th>PGR</th>\n",
       "      <td>0.003633</td>\n",
       "      <td>0.143505</td>\n",
       "      <td>0.238014</td>\n",
       "      <td>15.126050</td>\n",
       "      <td>18</td>\n",
       "      <td>0.003633</td>\n",
       "    </tr>\n",
       "    <tr>\n",
       "      <th>AR</th>\n",
       "      <td>0.106785</td>\n",
       "      <td>-0.071693</td>\n",
       "      <td>0.042391</td>\n",
       "      <td>26.050420</td>\n",
       "      <td>31</td>\n",
       "      <td>0.106785</td>\n",
       "    </tr>\n",
       "    <tr>\n",
       "      <th>NR3C1</th>\n",
       "      <td>0.160448</td>\n",
       "      <td>0.083986</td>\n",
       "      <td>0.175191</td>\n",
       "      <td>56.302521</td>\n",
       "      <td>67</td>\n",
       "      <td>0.160448</td>\n",
       "    </tr>\n",
       "    <tr>\n",
       "      <th>TNFRSF1A</th>\n",
       "      <td>0.034374</td>\n",
       "      <td>-0.024095</td>\n",
       "      <td>0.268864</td>\n",
       "      <td>57.142857</td>\n",
       "      <td>68</td>\n",
       "      <td>0.034374</td>\n",
       "    </tr>\n",
       "  </tbody>\n",
       "</table>\n",
       "</div>"
      ],
      "text/plain": [
       "               area  eccentricity  spectra_norm       Frac  Number  area um2\n",
       "gene_name                                                                   \n",
       "ESR1      -0.051306     -0.008299      0.262326  59.663866      71 -0.051306\n",
       "PGR        0.003633      0.143505      0.238014  15.126050      18  0.003633\n",
       "AR         0.106785     -0.071693      0.042391  26.050420      31  0.106785\n",
       "NR3C1      0.160448      0.083986      0.175191  56.302521      67  0.160448\n",
       "TNFRSF1A   0.034374     -0.024095      0.268864  57.142857      68  0.034374"
      ]
     },
     "execution_count": 13,
     "metadata": {},
     "output_type": "execute_result"
    }
   ],
   "source": [
    "morph_corr.loc[receptors]"
   ]
  },
  {
   "cell_type": "code",
   "execution_count": 14,
   "metadata": {},
   "outputs": [],
   "source": [
    "heatmap_df = pd.DataFrame(index=receptors, \n",
    "                          columns=['Area', 'Eccentricity','C4/C2',  'C4', ])\n",
    "\n",
    "heatmap_df['Area'] = morph_corr.loc[receptors]['area']\n",
    "heatmap_df['Eccentricity'] = morph_corr.loc[receptors]['eccentricity']\n",
    "\n",
    "heatmap_df['C4'] = wls_corr.loc[receptors]['343_451']\n",
    "\n",
    "heatmap_df['C4/C2'] = ratio_corr.loc[receptors]['C4_C2']"
   ]
  },
  {
   "cell_type": "code",
   "execution_count": 15,
   "metadata": {},
   "outputs": [
    {
     "data": {
      "text/html": [
       "<div>\n",
       "<style scoped>\n",
       "    .dataframe tbody tr th:only-of-type {\n",
       "        vertical-align: middle;\n",
       "    }\n",
       "\n",
       "    .dataframe tbody tr th {\n",
       "        vertical-align: top;\n",
       "    }\n",
       "\n",
       "    .dataframe thead th {\n",
       "        text-align: right;\n",
       "    }\n",
       "</style>\n",
       "<table border=\"1\" class=\"dataframe\">\n",
       "  <thead>\n",
       "    <tr style=\"text-align: right;\">\n",
       "      <th></th>\n",
       "      <th>Area</th>\n",
       "      <th>Eccentricity</th>\n",
       "      <th>C4/C2</th>\n",
       "      <th>C4</th>\n",
       "    </tr>\n",
       "  </thead>\n",
       "  <tbody>\n",
       "    <tr>\n",
       "      <th>ESR1</th>\n",
       "      <td>-0.051306</td>\n",
       "      <td>-0.008299</td>\n",
       "      <td>-0.038347</td>\n",
       "      <td>0.260300</td>\n",
       "    </tr>\n",
       "    <tr>\n",
       "      <th>PGR</th>\n",
       "      <td>0.003633</td>\n",
       "      <td>0.143505</td>\n",
       "      <td>-0.005346</td>\n",
       "      <td>0.235638</td>\n",
       "    </tr>\n",
       "    <tr>\n",
       "      <th>AR</th>\n",
       "      <td>0.106785</td>\n",
       "      <td>-0.071693</td>\n",
       "      <td>-0.069580</td>\n",
       "      <td>0.136664</td>\n",
       "    </tr>\n",
       "    <tr>\n",
       "      <th>NR3C1</th>\n",
       "      <td>0.160448</td>\n",
       "      <td>0.083986</td>\n",
       "      <td>-0.045951</td>\n",
       "      <td>0.251410</td>\n",
       "    </tr>\n",
       "    <tr>\n",
       "      <th>TNFRSF1A</th>\n",
       "      <td>0.034374</td>\n",
       "      <td>-0.024095</td>\n",
       "      <td>-0.012739</td>\n",
       "      <td>0.217240</td>\n",
       "    </tr>\n",
       "  </tbody>\n",
       "</table>\n",
       "</div>"
      ],
      "text/plain": [
       "              Area  Eccentricity     C4/C2        C4\n",
       "ESR1     -0.051306     -0.008299 -0.038347  0.260300\n",
       "PGR       0.003633      0.143505 -0.005346  0.235638\n",
       "AR        0.106785     -0.071693 -0.069580  0.136664\n",
       "NR3C1     0.160448      0.083986 -0.045951  0.251410\n",
       "TNFRSF1A  0.034374     -0.024095 -0.012739  0.217240"
      ]
     },
     "execution_count": 15,
     "metadata": {},
     "output_type": "execute_result"
    }
   ],
   "source": [
    "heatmap_df"
   ]
  },
  {
   "cell_type": "code",
   "execution_count": 16,
   "metadata": {},
   "outputs": [
    {
     "data": {
      "image/png": "[encoded data removed]",
      "text/plain": [
       "<Figure size 144x144 with 2 Axes>"
      ]
     },
     "metadata": {
      "needs_background": "light"
     },
     "output_type": "display_data"
    }
   ],
   "source": [
    "fig, ax = plt.subplots(figsize=[2, 2])\n",
    "rcParams['pdf.fonttype'] = 42\n",
    "sns.heatmap(heatmap_df, center=0, cmap='vlag', vmin = -0.25, vmax=0.25, \n",
    "                cbar_kws={'label': r'$\\rho$ [vs Gene exp]'})\n",
    "plt.savefig(save_figures + 'MCF7/MCF7_receptors.png', bbox_inches='tight', dpi=300)\n",
    "plt.savefig(save_figures + 'MCF7/MCF7_receptors.pdf', bbox_inches='tight', dpi=300)"
   ]
  },
  {
   "cell_type": "code",
   "execution_count": 17,
   "metadata": {},
   "outputs": [
    {
     "name": "stderr",
     "output_type": "stream",
     "text": [
      "/home/yike/.conda/envs/scanpy/lib/python3.8/site-packages/anndata/_core/anndata.py:1095: FutureWarning: The `inplace` parameter in pandas.Categorical.remove_unused_categories is deprecated and will be removed in a future version.\n",
      "  df_sub[k].cat.remove_unused_categories(inplace=True)\n",
      "/home/yike/.conda/envs/scanpy/lib/python3.8/site-packages/anndata/_core/anndata.py:1095: FutureWarning: The `inplace` parameter in pandas.Categorical.remove_unused_categories is deprecated and will be removed in a future version.\n",
      "  df_sub[k].cat.remove_unused_categories(inplace=True)\n",
      "/home/yike/.conda/envs/scanpy/lib/python3.8/site-packages/anndata/_core/anndata.py:1095: FutureWarning: The `inplace` parameter in pandas.Categorical.remove_unused_categories is deprecated and will be removed in a future version.\n",
      "  df_sub[k].cat.remove_unused_categories(inplace=True)\n",
      "/home/yike/.conda/envs/scanpy/lib/python3.8/site-packages/anndata/_core/anndata.py:1095: FutureWarning: The `inplace` parameter in pandas.Categorical.remove_unused_categories is deprecated and will be removed in a future version.\n",
      "  df_sub[k].cat.remove_unused_categories(inplace=True)\n",
      "/home/yike/.conda/envs/scanpy/lib/python3.8/site-packages/anndata/_core/anndata.py:1095: FutureWarning: The `inplace` parameter in pandas.Categorical.remove_unused_categories is deprecated and will be removed in a future version.\n",
      "  df_sub[k].cat.remove_unused_categories(inplace=True)\n"
     ]
    },
    {
     "data": {
      "image/png": "[encoded data removed]",
      "text/plain": [
       "<Figure size 144x180 with 1 Axes>"
      ]
     },
     "metadata": {
      "needs_background": "light"
     },
     "output_type": "display_data"
    },
    {
     "data": {
      "image/png": "[encoded data removed]",
      "text/plain": [
       "<Figure size 144x180 with 1 Axes>"
      ]
     },
     "metadata": {
      "needs_background": "light"
     },
     "output_type": "display_data"
    },
    {
     "data": {
      "image/png": "[encoded data removed]",
      "text/plain": [
       "<Figure size 144x180 with 1 Axes>"
      ]
     },
     "metadata": {
      "needs_background": "light"
     },
     "output_type": "display_data"
    },
    {
     "data": {
      "image/png": "[encoded data removed]",
      "text/plain": [
       "<Figure size 144x180 with 1 Axes>"
      ]
     },
     "metadata": {
      "needs_background": "light"
     },
     "output_type": "display_data"
    },
    {
     "data": {
      "image/png": "[encoded data removed]",
      "text/plain": [
       "<Figure size 144x180 with 1 Axes>"
      ]
     },
     "metadata": {
      "needs_background": "light"
     },
     "output_type": "display_data"
    }
   ],
   "source": [
    "for gene in receptors:\n",
    "    fea = '343_451'\n",
    "    genes = [gene]\n",
    "    colors = ['Reds']\n",
    "    cmap = 'Reds'\n",
    "    bin_n = 8\n",
    "    \n",
    "    rho = wls_corr.loc[gene][fea]\n",
    "    plot_bins(adata_live, fea, bin_n, gene, cmap, 'Ave intensity of 343 451', '.pdf', \n",
    "              path=save_figures + 'MCF7/', rho=rho)"
   ]
  },
  {
   "cell_type": "code",
   "execution_count": null,
   "metadata": {},
   "outputs": [],
   "source": []
  }
 ],
 "metadata": {
  "kernelspec": {
   "display_name": "scanpy",
   "language": "python",
   "name": "scanpy"
  },
  "language_info": {
   "codemirror_mode": {
    "name": "ipython",
    "version": 3
   },
   "file_extension": ".py",
   "mimetype": "text/x-python",
   "name": "python",
   "nbconvert_exporter": "python",
   "pygments_lexer": "ipython3",
   "version": "3.8.5"
  },
  "toc": {
   "base_numbering": 1,
   "nav_menu": {},
   "number_sections": true,
   "sideBar": true,
   "skip_h1_title": false,
   "title_cell": "Table of Contents",
   "title_sidebar": "Contents",
   "toc_cell": false,
   "toc_position": {},
   "toc_section_display": true,
   "toc_window_display": false
  }
 },
 "nbformat": 4,
 "nbformat_minor": 4
}
