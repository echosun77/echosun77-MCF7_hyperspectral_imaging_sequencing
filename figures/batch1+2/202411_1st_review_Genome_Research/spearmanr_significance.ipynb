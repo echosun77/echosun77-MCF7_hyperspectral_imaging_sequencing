{
 "cells": [
  {
   "cell_type": "code",
   "execution_count": 1,
   "metadata": {
    "ExecuteTime": {
     "end_time": "2024-11-26T15:17:54.446488Z",
     "start_time": "2024-11-26T15:17:54.441872Z"
    }
   },
   "outputs": [
    {
     "data": {
      "text/plain": [
       "'\\nauthor: Yike Xie\\ndata: 11/26/2023\\ncontent: compute the statistical significance of correlation analysis shown in the manuscript\\n'"
      ]
     },
     "execution_count": 1,
     "metadata": {},
     "output_type": "execute_result"
    }
   ],
   "source": [
    "'''\n",
    "author: Yike Xie\n",
    "data: 11/26/2023\n",
    "content: compute the statistical significance of correlation analysis shown in the manuscript\n",
    "'''"
   ]
  },
  {
   "cell_type": "code",
   "execution_count": 2,
   "metadata": {
    "ExecuteTime": {
     "end_time": "2024-11-26T15:17:55.834288Z",
     "start_time": "2024-11-26T15:17:55.061449Z"
    }
   },
   "outputs": [],
   "source": [
    "import os\n",
    "import sys\n",
    "import numpy as np\n",
    "import pandas as pd\n",
    "\n",
    "import matplotlib.pyplot as plt\n",
    "from matplotlib import rcParams\n",
    "import seaborn as sns\n",
    "\n",
    "import scanpy as sc\n",
    "import pickle"
   ]
  },
  {
   "cell_type": "code",
   "execution_count": 3,
   "metadata": {
    "ExecuteTime": {
     "end_time": "2024-11-26T15:17:56.080331Z",
     "start_time": "2024-11-26T15:17:56.074711Z"
    }
   },
   "outputs": [],
   "source": [
    "def sig_dataset(feas_fn, data_fn):\n",
    "    print('load features')\n",
    "    with open(feas_fn, 'rb') as f:\n",
    "        features = pd.read_pickle(f)\n",
    "    \n",
    "    print('load dataset')\n",
    "    adata = sc.read_h5ad(data_fn)\n",
    "    sc.pp.normalize_total(adata, target_sum=1e6)\n",
    "\n",
    "    print('filter genes')\n",
    "    sc.pp.filter_genes(adata, min_cells=10)\n",
    "\n",
    "    print('Add features to adata')\n",
    "    for col in features.columns:\n",
    "        adata.obs[col] = features.loc[adata.obs_names][col]\n",
    "\n",
    "    return adata"
   ]
  },
  {
   "cell_type": "code",
   "execution_count": 4,
   "metadata": {
    "ExecuteTime": {
     "end_time": "2024-11-26T15:17:57.150369Z",
     "start_time": "2024-11-26T15:17:57.078545Z"
    }
   },
   "outputs": [
    {
     "name": "stdout",
     "output_type": "stream",
     "text": [
      "load features\n",
      "load dataset\n",
      "filter genes\n",
      "Add features to adata\n"
     ]
    }
   ],
   "source": [
    "feas_fn = '/home/yike/phd/cancer_cells_img_seq/figures/combine_features.pkl'\n",
    "data_fn = '/home/yike/phd/cancer_cells_img_seq/data/combine_gene.h5ad'\n",
    "adata = sig_dataset(feas_fn, data_fn)"
   ]
  },
  {
   "cell_type": "code",
   "execution_count": 37,
   "metadata": {
    "ExecuteTime": {
     "end_time": "2024-11-26T16:49:11.143174Z",
     "start_time": "2024-11-26T16:49:11.122995Z"
    }
   },
   "outputs": [],
   "source": [
    "# add the average fluorescent intensity of each channel to the dataset\n",
    "df = pd.DataFrame(index=adata.obs_names, columns=adata.obs['wavelengths'].iloc[0])\n",
    "for i in df.index:\n",
    "    df.loc[i] = adata.obs['spectra'].loc[i] / adata.obs['area'].loc[i]\n",
    "    \n",
    "for col in df.columns:\n",
    "    adata.obs['{}_{}'.format(col[0], col[1])] = df.loc[adata.obs_names][col]\n",
    "    \n",
    "# add the ratio of channel 4 [3] to channel 2 [1] after background subtraction to dataset    \n",
    "adata.obs['C4_C2'] = df[df.columns[3]] / df[df.columns[1]]"
   ]
  },
  {
   "cell_type": "code",
   "execution_count": 41,
   "metadata": {
    "ExecuteTime": {
     "end_time": "2024-11-26T16:51:47.861232Z",
     "start_time": "2024-11-26T16:51:47.851114Z"
    }
   },
   "outputs": [
    {
     "name": "stderr",
     "output_type": "stream",
     "text": [
      "/tmp/ipykernel_151593/1297875266.py:9: ImplicitModificationWarning: Trying to modify attribute `.obs` of view, initializing view as actual.\n",
      "  adata_live.obs['spectra_norm'] = np.array(adata_live.obs['spectra'].tolist()).mean(axis=1) / adata_live.obs['area']\n"
     ]
    }
   ],
   "source": [
    "## divide live and dead cells according to the fraction o mitochondrial reads\n",
    "live_cells = adata.obs[adata.obs['pct_counts_mt'] < 25].index\n",
    "dead_cells = adata.obs[adata.obs['pct_counts_mt'] > 25].index\n",
    "\n",
    "# create dataset only having cells with low percentage of mitochondrial reads\n",
    "adata_live = adata[live_cells, :]\n",
    "\n",
    "# Average spectra\n",
    "adata_live.obs['spectra_norm'] = np.array(adata_live.obs['spectra'].tolist()).mean(axis=1) / adata_live.obs['area']"
   ]
  },
  {
   "cell_type": "markdown",
   "metadata": {},
   "source": [
    "## statistical significance of correlation analysis"
   ]
  },
  {
   "cell_type": "code",
   "execution_count": 8,
   "metadata": {
    "ExecuteTime": {
     "end_time": "2024-11-26T16:39:55.042081Z",
     "start_time": "2024-11-26T16:39:55.040617Z"
    }
   },
   "outputs": [],
   "source": [
    "from scipy.stats import spearmanr"
   ]
  },
  {
   "cell_type": "markdown",
   "metadata": {},
   "source": [
    "#### Figure 3 "
   ]
  },
  {
   "cell_type": "code",
   "execution_count": 31,
   "metadata": {
    "ExecuteTime": {
     "end_time": "2024-11-26T16:46:58.645384Z",
     "start_time": "2024-11-26T16:46:58.636170Z"
    }
   },
   "outputs": [
    {
     "name": "stdout",
     "output_type": "stream",
     "text": [
      "RBM8A with area: rho=-0.25082078141458203, p-value=0.005934527744146469\n",
      "HDGFRP3 with area: rho=0.03625958281750584, p-value=0.695428403129469\n",
      "HIGD1A with area: rho=0.36092087046170857, p-value=5.52077057826243e-05\n"
     ]
    }
   ],
   "source": [
    "# size with gene: 'RBM8A', 'HDGFRP3', 'HIGD1A'\n",
    "\n",
    "fea = 'area'\n",
    "fea_data = adata_live.obs[fea].tolist()\n",
    "for gene in ['RBM8A', 'HDGFRP3', 'HIGD1A']:\n",
    "    res = spearmanr(fea_data, adata_live[:, gene].X[:, 0].tolist())\n",
    "    rho, P = res[0], res[1]\n",
    "    print(f'{gene} with {fea}: rho={rho}, p-value={P}')"
   ]
  },
  {
   "cell_type": "code",
   "execution_count": 63,
   "metadata": {
    "ExecuteTime": {
     "end_time": "2024-11-26T17:17:38.736026Z",
     "start_time": "2024-11-26T17:17:37.608818Z"
    }
   },
   "outputs": [],
   "source": [
    "# size with exon usage: DAAM1, exon25, exon 11, exon 1\n",
    "\n",
    "save_figures = '/home/yike/phd/cancer_cells_img_seq/figures/correlate_features/exon/'\n",
    "gene_exp = pd.read_csv(save_figures + 'gene_exp.tsv', sep='\\t', index_col='gene_name')\n",
    "\n",
    "exon_number_fra = pd.read_csv(save_figures + 'exon_number_frac.tsv', sep='\\t', index_col=[0, 1])\n",
    "exon_number_fra_live = exon_number_fra[adata_live.obs_names]"
   ]
  },
  {
   "cell_type": "code",
   "execution_count": 83,
   "metadata": {
    "ExecuteTime": {
     "end_time": "2024-11-26T17:36:46.602929Z",
     "start_time": "2024-11-26T17:36:46.582212Z"
    }
   },
   "outputs": [
    {
     "name": "stdout",
     "output_type": "stream",
     "text": [
      "('DAAM1', 25) with area: rho=-0.4515959437270447, p-value=4.2275621239977475e-05\n",
      "('DAAM1', 11) with area: rho=-0.013775599537232135, p-value=0.9059819735729822\n",
      "('DAAM1', 1) with area: rho=0.4433243409047735, p-value=6.0533314872030635e-05\n"
     ]
    }
   ],
   "source": [
    "fea = 'area'\n",
    "gene = 'DAAM1'\n",
    "g_idx = (gene_exp[live_cells].loc[gene] >= 10)\n",
    "\n",
    "for exon in [('DAAM1', 25), ('DAAM1', 11), ('DAAM1', 1)]:\n",
    "    fea_data = adata_live[g_idx].obs[fea].tolist()\n",
    "    res = spearmanr(fea_data, exon_number_fra_live.loc[exon][g_idx])\n",
    "    rho, P = res[0], res[1]\n",
    "    print(f'{exon} with {fea}: rho={rho}, p-value={P}')"
   ]
  },
  {
   "cell_type": "markdown",
   "metadata": {},
   "source": [
    "#### Figure S4"
   ]
  },
  {
   "cell_type": "code",
   "execution_count": 32,
   "metadata": {
    "ExecuteTime": {
     "end_time": "2024-11-26T16:47:44.285540Z",
     "start_time": "2024-11-26T16:47:44.280075Z"
    }
   },
   "outputs": [
    {
     "name": "stdout",
     "output_type": "stream",
     "text": [
      "TUBG2 with area: rho=0.32290569127681995, p-value=0.0003413031650952017\n"
     ]
    }
   ],
   "source": [
    "# size with gene: TUBG2\n",
    "fea = 'area'\n",
    "fea_data = adata_live.obs[fea].tolist()\n",
    "for gene in ['TUBG2']:\n",
    "    res = spearmanr(fea_data, adata_live[:, gene].X[:, 0].tolist())\n",
    "    rho, P = res[0], res[1]\n",
    "    print(f'{gene} with {fea}: rho={rho}, p-value={P}')"
   ]
  },
  {
   "cell_type": "code",
   "execution_count": 33,
   "metadata": {
    "ExecuteTime": {
     "end_time": "2024-11-26T16:48:06.206931Z",
     "start_time": "2024-11-26T16:48:06.195314Z"
    }
   },
   "outputs": [
    {
     "name": "stdout",
     "output_type": "stream",
     "text": [
      "GNB2L1 with eccentricity: rho=-0.2077556753949942, p-value=0.023376645509655194\n",
      "RHOA with eccentricity: rho=0.023209027236245683, p-value=0.8021682734750271\n",
      "GRWD1 with eccentricity: rho=0.2726843980382112, p-value=0.00269703715525957\n"
     ]
    }
   ],
   "source": [
    "# eccentricity with gene: GNB2L1, RHOA,GRWD1\n",
    "\n",
    "fea = 'eccentricity'\n",
    "fea_data = adata_live.obs[fea].tolist()\n",
    "for gene in ['GNB2L1', 'RHOA', 'GRWD1']:\n",
    "    res = spearmanr(fea_data, adata_live[:, gene].X[:, 0].tolist())\n",
    "    rho, P = res[0], res[1]\n",
    "    print(f'{gene} with {fea}: rho={rho}, p-value={P}')"
   ]
  },
  {
   "cell_type": "markdown",
   "metadata": {},
   "source": [
    "#### Figure 4"
   ]
  },
  {
   "cell_type": "code",
   "execution_count": 43,
   "metadata": {
    "ExecuteTime": {
     "end_time": "2024-11-26T16:52:14.335349Z",
     "start_time": "2024-11-26T16:52:14.321213Z"
    }
   },
   "outputs": [
    {
     "name": "stdout",
     "output_type": "stream",
     "text": [
      "LDHA with 343_451: rho=-0.31684645500416087, p-value=0.00044674254312204715\n",
      "ATP5I with 343_451: rho=0.0006481943306339052, p-value=0.9944177824880066\n",
      "IDH1 with 343_451: rho=0.2607494247800869, p-value=0.00418146826766667\n",
      "ME2 with 343_451: rho=0.29344085112309776, p-value=0.0011999834106921124\n"
     ]
    }
   ],
   "source": [
    "# ave intensity of C4 with gene: LDHA, ATP5I, IDH1, ME2\n",
    "\n",
    "fea = '343_451'\n",
    "fea_data = adata_live.obs[fea].tolist()\n",
    "for gene in ['LDHA', 'ATP5I', 'IDH1', 'ME2']:\n",
    "    res = spearmanr(fea_data, adata_live[:, gene].X[:, 0].tolist())\n",
    "    rho, P = res[0], res[1]\n",
    "    print(f'{gene} with {fea}: rho={rho}, p-value={P}')"
   ]
  },
  {
   "cell_type": "markdown",
   "metadata": {},
   "source": [
    "#### Figure S5"
   ]
  },
  {
   "cell_type": "code",
   "execution_count": 42,
   "metadata": {
    "ExecuteTime": {
     "end_time": "2024-11-26T16:51:53.713955Z",
     "start_time": "2024-11-26T16:51:53.704190Z"
    },
    "scrolled": true
   },
   "outputs": [
    {
     "name": "stdout",
     "output_type": "stream",
     "text": [
      "INSR with C4_C2: rho=-0.3219113605857897, p-value=0.00035685723830144366\n",
      "ALDOA with C4_C2: rho=0.0034540416602203395, p-value=0.9702605251229992\n",
      "ENO1 with C4_C2: rho=0.2139866115937901, p-value=0.01944879572874183\n"
     ]
    }
   ],
   "source": [
    "# Ratio of C4 to C2 with gene: INSR, ALDOA, ENO1\n",
    "\n",
    "fea = 'C4_C2'\n",
    "fea_data = adata_live.obs[fea].tolist()\n",
    "for gene in ['INSR', 'ALDOA', 'ENO1']:\n",
    "    res = spearmanr(fea_data, adata_live[:, gene].X[:, 0].tolist())\n",
    "    rho, P = res[0], res[1]\n",
    "    print(f'{gene} with {fea}: rho={rho}, p-value={P}')"
   ]
  },
  {
   "cell_type": "code",
   "execution_count": null,
   "metadata": {},
   "outputs": [],
   "source": []
  }
 ],
 "metadata": {
  "kernelspec": {
   "display_name": "singlecell",
   "language": "python",
   "name": "singlecell"
  },
  "language_info": {
   "codemirror_mode": {
    "name": "ipython",
    "version": 3
   },
   "file_extension": ".py",
   "mimetype": "text/x-python",
   "name": "python",
   "nbconvert_exporter": "python",
   "pygments_lexer": "ipython3",
   "version": "3.12.7"
  },
  "toc": {
   "base_numbering": 1,
   "nav_menu": {},
   "number_sections": true,
   "sideBar": true,
   "skip_h1_title": false,
   "title_cell": "Table of Contents",
   "title_sidebar": "Contents",
   "toc_cell": false,
   "toc_position": {},
   "toc_section_display": true,
   "toc_window_display": false
  }
 },
 "nbformat": 4,
 "nbformat_minor": 4
}
